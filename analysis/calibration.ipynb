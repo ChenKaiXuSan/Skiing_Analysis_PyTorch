{
 "cells": [
  {
   "cell_type": "code",
   "execution_count": 1,
   "id": "b2e425fc",
   "metadata": {},
   "outputs": [],
   "source": [
    "import numpy as np\n",
    "\n",
    "path = \"/workspace/code/camera_calibration/calibration_parameters.npz\"\n",
    "\n",
    "with np.load(path) as data:\n",
    "    camera_matrix = data[\"camera_matrix\"]\n",
    "    dist_coeffs = data[\"dist_coeffs\"]\n",
    "    image_size = tuple(data[\"image_size\"])  "
   ]
  },
  {
   "cell_type": "code",
   "execution_count": 3,
   "id": "128aa550",
   "metadata": {},
   "outputs": [
    {
     "data": {
      "text/plain": [
       "KeysView(NpzFile 'object' with keys: camera_matrix, dist_coeffs, rvecs, tvecs, image_size)"
      ]
     },
     "execution_count": 3,
     "metadata": {},
     "output_type": "execute_result"
    }
   ],
   "source": [
    "data.keys()"
   ]
  },
  {
   "cell_type": "code",
   "execution_count": 4,
   "id": "5a705784",
   "metadata": {},
   "outputs": [
    {
     "name": "stdout",
     "output_type": "stream",
     "text": [
      "Camera Matrix:\n",
      " [[1.67514300e+03 0.00000000e+00 8.80968039e+02]\n",
      " [0.00000000e+00 1.28634860e+03 1.02593966e+03]\n",
      " [0.00000000e+00 0.00000000e+00 1.00000000e+00]]\n",
      "Distortion Coefficients:\n",
      " [[ 0.20856113 -0.02898647  0.02729207 -0.09730363  0.00345747]]\n",
      "Image Size: (3840, 2160)\n"
     ]
    }
   ],
   "source": [
    "print(\"Camera Matrix:\\n\", camera_matrix)\n",
    "print(\"Distortion Coefficients:\\n\", dist_coeffs)\n",
    "print(\"Image Size:\", image_size)    "
   ]
  }
 ],
 "metadata": {
  "kernelspec": {
   "display_name": "base",
   "language": "python",
   "name": "python3"
  },
  "language_info": {
   "codemirror_mode": {
    "name": "ipython",
    "version": 3
   },
   "file_extension": ".py",
   "mimetype": "text/x-python",
   "name": "python",
   "nbconvert_exporter": "python",
   "pygments_lexer": "ipython3",
   "version": "3.10.13"
  }
 },
 "nbformat": 4,
 "nbformat_minor": 5
}
