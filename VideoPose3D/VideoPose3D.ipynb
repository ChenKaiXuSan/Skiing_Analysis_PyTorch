{
 "cells": [
  {
   "cell_type": "markdown",
   "id": "e04e8caa",
   "metadata": {},
   "source": [
    "# Convert Yolov11 kpt format to VideoPose3D format"
   ]
  },
  {
   "cell_type": "code",
   "execution_count": 1,
   "id": "3811de46",
   "metadata": {},
   "outputs": [],
   "source": [
    "# convert yolov11 keypoint format to VideoPose3D format\n",
    "import numpy as np\n",
    "def convert_yolov11_to_videopose3d(yolov11_keypoints):\n",
    "    \"\"\"\n",
    "    Convert keypoints from Yolov11 format to VideoPose3D format.\n",
    "    \n",
    "    Parameters:\n",
    "    yolov11_keypoints (np.ndarray): Keypoints in Yolov11 format, shape (N, 17, 2).\n",
    "    \n",
    "    Returns:\n",
    "    np.ndarray: Keypoints in VideoPose3D format, shape (N, 17, 3).\n",
    "    \"\"\"\n",
    "    # Initialize an array for VideoPose3D format\n",
    "    videopose3d_keypoints = np.zeros((yolov11_keypoints.shape[0], yolov11_keypoints.shape[1], 3))\n",
    "    \n",
    "    # Copy the x and y coordinates\n",
    "    videopose3d_keypoints[:, :, :2] = yolov11_keypoints\n",
    "    \n",
    "    # Set the z coordinate to zero\n",
    "    videopose3d_keypoints[:, :, 2] = 0\n",
    "    \n",
    "    return videopose3d_keypoints\n"
   ]
  },
  {
   "cell_type": "code",
   "execution_count": 2,
   "id": "e43b144a",
   "metadata": {},
   "outputs": [],
   "source": [
    "import torch \n",
    "\n",
    "left_pt_info = torch.load(\"/workspace/data/pt/run_3/osmo_2.pt\")\n",
    "right_pt_info = torch.load(\"/workspace/data/pt/run_3/osmo_1.pt\")"
   ]
  },
  {
   "cell_type": "code",
   "execution_count": 6,
   "id": "06629b74",
   "metadata": {},
   "outputs": [
    {
     "data": {
      "text/plain": [
       "(torch.Size([360, 17, 2]),\n",
       " torch.Size([360, 17, 2]),\n",
       " torch.Size([360, 17]),\n",
       " torch.Size([360, 17]))"
      ]
     },
     "execution_count": 6,
     "metadata": {},
     "output_type": "execute_result"
    }
   ],
   "source": [
    "left_keypoints = left_pt_info[\"keypoint\"][\"keypoint\"]\n",
    "left_keypoints_score = left_pt_info[\"keypoint\"][\"keypoint_score\"]\n",
    "right_keypoints = right_pt_info[\"keypoint\"][\"keypoint\"]\n",
    "right_keypoints_score = right_pt_info[\"keypoint\"][\"keypoint_score\"]\n",
    "\n",
    "left_keypoints.shape, right_keypoints.shape, left_keypoints_score.shape, right_keypoints_score.shape"
   ]
  },
  {
   "cell_type": "code",
   "execution_count": 7,
   "id": "27c03409",
   "metadata": {},
   "outputs": [
    {
     "data": {
      "text/plain": [
       "tensor([[731.8837, 421.3285],\n",
       "        [726.4521, 406.8996],\n",
       "        [  0.0000,   0.0000],\n",
       "        [747.1057, 381.8362],\n",
       "        [  0.0000,   0.0000],\n",
       "        [809.7138, 414.9711],\n",
       "        [851.4199, 404.2442],\n",
       "        [761.5999, 526.7832],\n",
       "        [  0.0000,   0.0000],\n",
       "        [660.0098, 568.9178],\n",
       "        [765.7133, 560.2425],\n",
       "        [936.6454, 598.6543],\n",
       "        [958.1873, 593.3985],\n",
       "        [924.0683, 772.4365],\n",
       "        [918.3677, 770.2001],\n",
       "        [976.9601, 948.6914],\n",
       "        [948.8914, 932.3851]])"
      ]
     },
     "execution_count": 7,
     "metadata": {},
     "output_type": "execute_result"
    }
   ],
   "source": [
    "left_keypoints[0]"
   ]
  },
  {
   "cell_type": "code",
   "execution_count": null,
   "id": "73d5708a",
   "metadata": {},
   "outputs": [],
   "source": []
  }
 ],
 "metadata": {
  "kernelspec": {
   "display_name": "base",
   "language": "python",
   "name": "python3"
  },
  "language_info": {
   "codemirror_mode": {
    "name": "ipython",
    "version": 3
   },
   "file_extension": ".py",
   "mimetype": "text/x-python",
   "name": "python",
   "nbconvert_exporter": "python",
   "pygments_lexer": "ipython3",
   "version": "3.10.13"
  }
 },
 "nbformat": 4,
 "nbformat_minor": 5
}
